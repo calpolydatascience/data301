{
 "cells": [
  {
   "cell_type": "markdown",
   "metadata": {},
   "source": [
    "# Data 1: Introduction to Data"
   ]
  },
  {
   "cell_type": "markdown",
   "metadata": {},
   "source": [
    "## Types of data"
   ]
  },
  {
   "cell_type": "markdown",
   "metadata": {},
   "source": [
    "In this section, when I talk about the \"type\" of the data, I am not talking about the `dtype` (`int`, `float`, `bool`, `str`) used to represent the data in a NumPy array or Pandas DataFrame. In this context the \"type\" of the data is used in a more abstract sense."
   ]
  },
  {
   "cell_type": "markdown",
   "metadata": {},
   "source": [
    "### Nominal"
   ]
  },
  {
   "cell_type": "markdown",
   "metadata": {},
   "source": [
    "* Non-numerical\n",
    "* Usually, but not always strings\n",
    "* Non-ordered\n",
    "* Cannot be averaged"
   ]
  },
  {
   "cell_type": "markdown",
   "metadata": {},
   "source": [
    "Operations typically seen: ==, !=\n",
    "\n",
    "Examples:"
   ]
  },
  {
   "cell_type": "code",
   "execution_count": 1,
   "metadata": {
    "collapsed": false
   },
   "outputs": [
    {
     "data": {
      "text/plain": [
       "['Wyoming', 'Idaho', 'California', 'Vermont', 'Kansas']"
      ]
     },
     "execution_count": 1,
     "metadata": {},
     "output_type": "execute_result"
    }
   ],
   "source": [
    "states = [\"Wyoming\", \"Idaho\", \"California\", \"Vermont\", \"Kansas\"]\n",
    "states"
   ]
  },
  {
   "cell_type": "code",
   "execution_count": 2,
   "metadata": {
    "collapsed": false
   },
   "outputs": [
    {
     "data": {
      "text/plain": [
       "['peanut butter', 'pizza', 'carrot', 'apple', 'ice cream']"
      ]
     },
     "execution_count": 2,
     "metadata": {},
     "output_type": "execute_result"
    }
   ],
   "source": [
    "food = [\"peanut butter\", \"pizza\", \"carrot\", \"apple\", \"ice cream\"]\n",
    "food"
   ]
  },
  {
   "cell_type": "code",
   "execution_count": 3,
   "metadata": {
    "collapsed": false
   },
   "outputs": [
    {
     "data": {
      "text/plain": [
       "['male', 'female']"
      ]
     },
     "execution_count": 3,
     "metadata": {},
     "output_type": "execute_result"
    }
   ],
   "source": [
    "gender = [\"male\", \"female\"]\n",
    "gender"
   ]
  },
  {
   "cell_type": "code",
   "execution_count": 4,
   "metadata": {
    "collapsed": false
   },
   "outputs": [
    {
     "data": {
      "text/plain": [
       "array(['m', 'm', 'm', 'm', 'm', 'm', 'm', 'm', 'm', 'm'], \n",
       "      dtype='|S1')"
      ]
     },
     "execution_count": 4,
     "metadata": {},
     "output_type": "execute_result"
    }
   ],
   "source": [
    "import numpy as np\n",
    "gender2 = np.random.choice(['m','f'],10,p=[0.75,0.25])\n",
    "gender2"
   ]
  },
  {
   "cell_type": "markdown",
   "metadata": {},
   "source": [
    "### Ordinal"
   ]
  },
  {
   "cell_type": "markdown",
   "metadata": {},
   "source": [
    "* Non-numerical\n",
    "* Usually, but not always strings\n",
    "* Natural ordering\n",
    "* Sometimes can be averaged\n",
    "* Can assign numerical scale, but it will be arbitrary"
   ]
  },
  {
   "cell_type": "markdown",
   "metadata": {},
   "source": [
    "Operations typically seen: ==, !=, <, >, <=, >=\n",
    "\n",
    "Examples:"
   ]
  },
  {
   "cell_type": "code",
   "execution_count": 5,
   "metadata": {
    "collapsed": false
   },
   "outputs": [
    {
     "data": {
      "text/plain": [
       "['strongly disagree', 'disagree', 'neutral', 'agree', 'strongly agree']"
      ]
     },
     "execution_count": 5,
     "metadata": {},
     "output_type": "execute_result"
    }
   ],
   "source": [
    "opinion = [\"strongly disagree\", \"disagree\", \"neutral\", \"agree\", \"strongly agree\"]\n",
    "opinion"
   ]
  },
  {
   "cell_type": "code",
   "execution_count": 6,
   "metadata": {
    "collapsed": false
   },
   "outputs": [
    {
     "data": {
      "text/plain": [
       "['cold', 'cool', 'warm', 'hot']"
      ]
     },
     "execution_count": 6,
     "metadata": {},
     "output_type": "execute_result"
    }
   ],
   "source": [
    "temperature = [\"cold\", \"cool\", \"warm\", \"hot\"]\n",
    "temperature"
   ]
  },
  {
   "cell_type": "code",
   "execution_count": 7,
   "metadata": {
    "collapsed": false
   },
   "outputs": [
    {
     "data": {
      "text/plain": [
       "['baby', 'toddler', 'child', 'teenager', 'adult', 'senior']"
      ]
     },
     "execution_count": 7,
     "metadata": {},
     "output_type": "execute_result"
    }
   ],
   "source": [
    "age_group = [\"baby\", \"toddler\", \"child\", \"teenager\", \"adult\", \"senior\"]\n",
    "age_group"
   ]
  },
  {
   "cell_type": "code",
   "execution_count": 8,
   "metadata": {
    "collapsed": false
   },
   "outputs": [
    {
     "data": {
      "text/plain": [
       "['short', 'medium', 'tall']"
      ]
     },
     "execution_count": 8,
     "metadata": {},
     "output_type": "execute_result"
    }
   ],
   "source": [
    "height = [\"short\", \"medium\", \"tall\"]\n",
    "height"
   ]
  },
  {
   "cell_type": "code",
   "execution_count": 9,
   "metadata": {
    "collapsed": false
   },
   "outputs": [
    {
     "data": {
      "text/plain": [
       "array(['Starter', 'Role Player', 'Role Player', 'Starter', 'Bust',\n",
       "       'Sixth Man', 'All-Star', 'Role Player', 'Role Player', 'Sixth Man',\n",
       "       'Bust', 'Role Player', 'Bust', 'Starter', 'Starter', 'Role Player',\n",
       "       'Sixth Man', 'Sixth Man', 'Role Player', 'Bust', 'Starter',\n",
       "       'Sixth Man', 'Role Player', 'Bust', 'Starter', 'Sixth Man',\n",
       "       'Starter', 'Starter', 'Role Player', 'Role Player', 'Starter',\n",
       "       'Starter', 'Role Player', 'Role Player', 'Sixth Man', 'Role Player',\n",
       "       'Role Player', 'Bust', 'Role Player', 'Starter', 'Role Player',\n",
       "       'Sixth Man', 'Role Player', 'Starter', 'Sixth Man', 'Role Player',\n",
       "       'Sixth Man', 'Role Player', 'Role Player', 'Role Player',\n",
       "       'Role Player', 'Role Player', 'Bust', 'Bust', 'Role Player',\n",
       "       'Role Player', 'Role Player', 'Bust', 'Starter', 'Starter'], \n",
       "      dtype='|S13')"
      ]
     },
     "execution_count": 9,
     "metadata": {},
     "output_type": "execute_result"
    }
   ],
   "source": [
    "nba_draft = np.random.choice(\n",
    "    ['Hall of Famer', 'All-Star', 'Starter', 'Sixth Man', 'Role Player', 'Bust'],\n",
    "    60,\n",
    "    p=[0.01, 0.04, .2, .15, .4, .2])\n",
    "nba_draft"
   ]
  },
  {
   "cell_type": "markdown",
   "metadata": {},
   "source": [
    "### Interval"
   ]
  },
  {
   "cell_type": "markdown",
   "metadata": {},
   "source": [
    "* Equally spaced numerical data\n",
    "* Ordered\n",
    "* Can either be discrete (int) or continuous (float)\n",
    "* No meaningful zero point"
   ]
  },
  {
   "cell_type": "markdown",
   "metadata": {},
   "source": [
    "Operations typically seen: ==, !=, <, >, <=, >=, -\n",
    "\n",
    "Examples:"
   ]
  },
  {
   "cell_type": "code",
   "execution_count": 10,
   "metadata": {
    "collapsed": false
   },
   "outputs": [
    {
     "data": {
      "text/plain": [
       "[-20.0,\n",
       " -10.0,\n",
       " 0.0,\n",
       " 10.0,\n",
       " 20.0,\n",
       " 30.0,\n",
       " 40.0,\n",
       " 50.0,\n",
       " 60.0,\n",
       " 70.0,\n",
       " 80.0,\n",
       " 90.0,\n",
       " 100.0,\n",
       " 110.0]"
      ]
     },
     "execution_count": 10,
     "metadata": {},
     "output_type": "execute_result"
    }
   ],
   "source": [
    "temp_in_C = [-20.0, -10.0, 0.0, 10.0, 20.0, 30.0, 40.0,\n",
    "             50.0, 60.0, 70.0, 80.0, 90.0, 100.0, 110.0]\n",
    "temp_in_C"
   ]
  },
  {
   "cell_type": "code",
   "execution_count": 11,
   "metadata": {
    "collapsed": false
   },
   "outputs": [
    {
     "data": {
      "text/plain": [
       "[1994, 1998, 2002, 2006, 2010, 2014, 2018, 2022]"
      ]
     },
     "execution_count": 11,
     "metadata": {},
     "output_type": "execute_result"
    }
   ],
   "source": [
    "world_cup_years = [1994, 1998, 2002, 2006, 2010, 2014, 2018, 2022]\n",
    "world_cup_years"
   ]
  },
  {
   "cell_type": "code",
   "execution_count": 12,
   "metadata": {
    "collapsed": false
   },
   "outputs": [
    {
     "data": {
      "text/plain": [
       "[3.0, 3.25, 3.5, 3.75, 4.0, 4.25]"
      ]
     },
     "execution_count": 12,
     "metadata": {},
     "output_type": "execute_result"
    }
   ],
   "source": [
    "pH = [3.00, 3.25, 3.50, 3.75, 4.00, 4.25]\n",
    "pH"
   ]
  },
  {
   "cell_type": "markdown",
   "metadata": {},
   "source": [
    "### Ratio"
   ]
  },
  {
   "cell_type": "markdown",
   "metadata": {},
   "source": [
    "* Equally spaced, ordered numerical data\n",
    "* Can either be discrete or continuous\n",
    "* Meaningful zero point that indicates an absence of the measured entity\n",
    "* Examples:\n",
    "  - Age in years\n",
    "  - Height in inches"
   ]
  },
  {
   "cell_type": "markdown",
   "metadata": {},
   "source": [
    "Operations typically seen: ==, !=, <, >, <=, >=, -, /\n",
    "\n",
    "Examples:"
   ]
  },
  {
   "cell_type": "code",
   "execution_count": 13,
   "metadata": {
    "collapsed": false
   },
   "outputs": [
    {
     "data": {
      "text/plain": [
       "[0, 5, 10, 15, 20, 25, 30]"
      ]
     },
     "execution_count": 13,
     "metadata": {},
     "output_type": "execute_result"
    }
   ],
   "source": [
    "age = [0, 5, 10, 15, 20, 25, 30]\n",
    "age"
   ]
  },
  {
   "cell_type": "code",
   "execution_count": 14,
   "metadata": {
    "collapsed": false
   },
   "outputs": [
    {
     "data": {
      "text/plain": [
       "[0, 12, 24, 36, 48, 60, 72]"
      ]
     },
     "execution_count": 14,
     "metadata": {},
     "output_type": "execute_result"
    }
   ],
   "source": [
    "height_in_inches = [0, 12, 24, 36, 48, 60, 72]\n",
    "height_in_inches"
   ]
  },
  {
   "cell_type": "code",
   "execution_count": 15,
   "metadata": {
    "collapsed": false
   },
   "outputs": [
    {
     "data": {
      "text/plain": [
       "[0, 1, 2, 3, 4, 5, 6, 7, 8, 9]"
      ]
     },
     "execution_count": 15,
     "metadata": {},
     "output_type": "execute_result"
    }
   ],
   "source": [
    "digits = [x for x in range(10)]\n",
    "digits"
   ]
  },
  {
   "cell_type": "markdown",
   "metadata": {},
   "source": [
    "### Categorical\n",
    "\n",
    "* Data is labelled by well separated categories\n",
    "* Often used as an umbrella for nominal and ordinal, which are unordered and ordered categorical data types respectively."
   ]
  },
  {
   "cell_type": "markdown",
   "metadata": {},
   "source": [
    "## Variables"
   ]
  },
  {
   "cell_type": "markdown",
   "metadata": {},
   "source": [
    "* A **variable** is some quantity that is measured, such as \"age\"\n",
    "* A single variable can be measured in different ways that give different data types:\n",
    "  - \"young\" or \"old\" = ordinal\n",
    "  - Age ranges (0-9, 10-19, ...) = ordinal\n",
    "  - Age in years = ratio"
   ]
  },
  {
   "cell_type": "markdown",
   "metadata": {},
   "source": [
    "## Records and data sets\n",
    "\n",
    " * A **record** or **sample** is one measurement of a set of variables\n",
    " * A **data set** is a set of records that measure the same set of variables in the same way"
   ]
  },
  {
   "cell_type": "markdown",
   "metadata": {},
   "source": [
    "## Resources"
   ]
  },
  {
   "cell_type": "markdown",
   "metadata": {},
   "source": [
    "* [Data+Design](https://infoactive.co/data-design) online book, Infoactive, RJI."
   ]
  }
 ],
 "metadata": {
  "kernelspec": {
   "display_name": "Python 2",
   "language": "python",
   "name": "python2"
  },
  "language_info": {
   "codemirror_mode": {
    "name": "ipython",
    "version": 2
   },
   "file_extension": ".py",
   "mimetype": "text/x-python",
   "name": "python",
   "nbconvert_exporter": "python",
   "pygments_lexer": "ipython2",
   "version": "2.7.6"
  }
 },
 "nbformat": 4,
 "nbformat_minor": 0
}
