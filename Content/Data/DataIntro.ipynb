{
 "cells": [
  {
   "cell_type": "markdown",
   "metadata": {},
   "source": [
    "# Data 1: Introduction to Data"
   ]
  },
  {
   "cell_type": "markdown",
   "metadata": {},
   "source": [
    "## Types of data"
   ]
  },
  {
   "cell_type": "markdown",
   "metadata": {},
   "source": [
    "In this section, when I talk about the \"type\" of the data, I am not talking about the `dtype` (`int`, `float`, `bool`, `str`) used to represent the data in a NumPy array or Pandas DataFrame. In this context the \"type\" of the data is used in a more abstract sense."
   ]
  },
  {
   "cell_type": "markdown",
   "metadata": {},
   "source": [
    "### Nominal"
   ]
  },
  {
   "cell_type": "markdown",
   "metadata": {},
   "source": [
    "* Non-numerical\n",
    "* Usually, but not always strings\n",
    "* Non-ordered\n",
    "* Cannot be averaged"
   ]
  },
  {
   "cell_type": "markdown",
   "metadata": {},
   "source": [
    "Examples:"
   ]
  },
  {
   "cell_type": "code",
   "execution_count": 1,
   "metadata": {
    "collapsed": true
   },
   "outputs": [],
   "source": [
    "states = [\"Wyoming\", \"Idaho\", \"California\", \"Vermont\", \"Kansas\"]\n",
    "food = [\"peanut butter\", \"pizza\", \"carrot\", \"apple\", \"ice cream\"]\n",
    "gender = [\"male\", \"female\"]"
   ]
  },
  {
   "cell_type": "markdown",
   "metadata": {},
   "source": [
    "### Ordinal"
   ]
  },
  {
   "cell_type": "markdown",
   "metadata": {},
   "source": [
    "* Non-numerical\n",
    "* Usually, but not always strings\n",
    "* Natural ordering\n",
    "* Sometimes can be averaged\n",
    "* Can assign numerical scale, but it will be arbitrary"
   ]
  },
  {
   "cell_type": "markdown",
   "metadata": {},
   "source": [
    "Examples:"
   ]
  },
  {
   "cell_type": "code",
   "execution_count": 4,
   "metadata": {
    "collapsed": true
   },
   "outputs": [],
   "source": [
    "opinion = [\"strongly disagree\", \"disagree\", \"neutral\", \"agree\", \"strongly agree\"]\n",
    "temperature = [\"cold\", \"cool\", \"warm\", \"hot\"]\n",
    "age_group = [\"baby\", \"toddler\", \"child\", \"teenager\", \"adult\", \"senior\"]\n",
    "height = [\"short\", \"medium\", \"tall\"]"
   ]
  },
  {
   "cell_type": "markdown",
   "metadata": {},
   "source": [
    "### Interval"
   ]
  },
  {
   "cell_type": "markdown",
   "metadata": {},
   "source": [
    "* Equally spaced numerical data\n",
    "* Ordered\n",
    "* Can either be discrete (int) or continuous (float)\n",
    "* No meaningful zero point"
   ]
  },
  {
   "cell_type": "markdown",
   "metadata": {},
   "source": [
    "Examples:"
   ]
  },
  {
   "cell_type": "code",
   "execution_count": 5,
   "metadata": {
    "collapsed": true
   },
   "outputs": [],
   "source": [
    "temp_in_C = [-20.0, -10.0, 0.0, 10.0, 20.0, 30.0, 40.0, 50.0, 60.0, 70.0, 80.0, 90.0, 100.0, 110.0]\n",
    "world_cup_years = [1994, 1998, 2002, 2006, 2010, 2014, 2018, 2022]\n",
    "pH = [3.00, 3.25, 3.50, 3.75, 4.00, 4.25]"
   ]
  },
  {
   "cell_type": "markdown",
   "metadata": {},
   "source": [
    "### Ratio"
   ]
  },
  {
   "cell_type": "markdown",
   "metadata": {},
   "source": [
    "* Equally spaced, ordered numerical data\n",
    "* Can either be discrete or continuous\n",
    "* Meaningful zero point that indicates an absence of the measured entity\n",
    "* Examples:\n",
    "  - Age in years\n",
    "  - Height in inches"
   ]
  },
  {
   "cell_type": "markdown",
   "metadata": {},
   "source": [
    "Examples:"
   ]
  },
  {
   "cell_type": "code",
   "execution_count": 6,
   "metadata": {
    "collapsed": true
   },
   "outputs": [],
   "source": [
    "age = [0, 5, 10, 15, 20, 25, 30]\n",
    "height_in_inches = [0, 12, 24, 36, 48, 60, 72]"
   ]
  },
  {
   "cell_type": "markdown",
   "metadata": {},
   "source": [
    "### Categorical\n",
    "\n",
    "* Data is labelled by well separated categories\n",
    "* Often used as an umbrella for nominal and ordinal, which are unordered and ordered categorical data types respectively."
   ]
  },
  {
   "cell_type": "markdown",
   "metadata": {},
   "source": [
    "## Variables"
   ]
  },
  {
   "cell_type": "markdown",
   "metadata": {},
   "source": [
    "* A **variable** is some quantity that is measured, such as \"age\"\n",
    "* A single variable can be measured in different ways that give different data types:\n",
    "  - \"young\" or \"old\" = ordinal\n",
    "  - Age ranges (0-9, 10-19, ...) = ordinal\n",
    "  - Age in years = ratio"
   ]
  },
  {
   "cell_type": "markdown",
   "metadata": {},
   "source": [
    "## Records and data sets\n",
    "\n",
    " * A **record** or **sample** is one measurement of a set of variables\n",
    " * A **data set** is a set of records that measure the same set of variables in the same way"
   ]
  },
  {
   "cell_type": "markdown",
   "metadata": {},
   "source": [
    "## Resources"
   ]
  },
  {
   "cell_type": "markdown",
   "metadata": {},
   "source": [
    "* [Data+Design](https://infoactive.co/data-design) online book, Infoactive, RJI."
   ]
  }
 ],
 "metadata": {
  "kernelspec": {
   "display_name": "Python 2",
   "language": "python",
   "name": "python2"
  },
  "language_info": {
   "codemirror_mode": {
    "name": "ipython",
    "version": 2
   },
   "file_extension": ".py",
   "mimetype": "text/x-python",
   "name": "python",
   "nbconvert_exporter": "python",
   "pygments_lexer": "ipython2",
   "version": "2.7.8"
  }
 },
 "nbformat": 4,
 "nbformat_minor": 0
}
