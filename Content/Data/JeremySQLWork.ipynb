{
 "metadata": {
  "name": "",
  "signature": "sha256:34c7c94bfc78f7efce6522fbc38c0af8ae075d4acec22f941a64382003fe9db5"
 },
 "nbformat": 3,
 "nbformat_minor": 0,
 "worksheets": [
  {
   "cells": [
    {
     "cell_type": "heading",
     "level": 1,
     "metadata": {},
     "source": [
      "Documentation for learning SQL, generating the curriculum, and producing homework sets."
     ]
    },
    {
     "cell_type": "markdown",
     "metadata": {},
     "source": [
      "Another Change."
     ]
    },
    {
     "cell_type": "code",
     "collapsed": false,
     "input": [],
     "language": "python",
     "metadata": {},
     "outputs": []
    },
    {
     "cell_type": "code",
     "collapsed": false,
     "input": [],
     "language": "python",
     "metadata": {},
     "outputs": []
    }
   ],
   "metadata": {}
  }
 ]
}