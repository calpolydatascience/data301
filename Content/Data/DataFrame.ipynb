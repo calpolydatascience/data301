{
 "cells": [
  {
   "cell_type": "markdown",
   "metadata": {},
   "source": [
    "# DataFrame"
   ]
  },
  {
   "cell_type": "markdown",
   "metadata": {},
   "source": [
    "A DataFrame is a tabular, spreadsheet-like data structure containing an ordered collection of columns. Each column can be a different value type (numeric, string, boolean, etc.). One of the most common ways to construct a DataFrame is through equal length lists of NumPy arrays."
   ]
  },
  {
   "cell_type": "code",
   "execution_count": 1,
   "metadata": {
    "collapsed": true
   },
   "outputs": [],
   "source": [
    "from pandas import Series, DataFrame\n",
    "import pandas as pd\n",
    "import numpy as np"
   ]
  },
  {
   "cell_type": "code",
   "execution_count": 2,
   "metadata": {
    "collapsed": false
   },
   "outputs": [
    {
     "data": {
      "text/html": [
       "<div style=\"max-height:1000px;max-width:1500px;overflow:auto;\">\n",
       "<table border=\"1\" class=\"dataframe\">\n",
       "  <thead>\n",
       "    <tr style=\"text-align: right;\">\n",
       "      <th></th>\n",
       "      <th>name</th>\n",
       "      <th>school</th>\n",
       "      <th>year</th>\n",
       "    </tr>\n",
       "  </thead>\n",
       "  <tbody>\n",
       "    <tr>\n",
       "      <th>0</th>\n",
       "      <td>  Kasper</td>\n",
       "      <td> Cal Poly</td>\n",
       "      <td> 2012</td>\n",
       "    </tr>\n",
       "    <tr>\n",
       "      <th>1</th>\n",
       "      <td>   Ellen</td>\n",
       "      <td>      UCB</td>\n",
       "      <td> 2011</td>\n",
       "    </tr>\n",
       "    <tr>\n",
       "      <th>2</th>\n",
       "      <td>    Lexi</td>\n",
       "      <td> Stanford</td>\n",
       "      <td> 2011</td>\n",
       "    </tr>\n",
       "    <tr>\n",
       "      <th>3</th>\n",
       "      <td> Cecilia</td>\n",
       "      <td> Cal Tech</td>\n",
       "      <td> 2012</td>\n",
       "    </tr>\n",
       "    <tr>\n",
       "      <th>4</th>\n",
       "      <td>   Jason</td>\n",
       "      <td>     UCSB</td>\n",
       "      <td> 2013</td>\n",
       "    </tr>\n",
       "    <tr>\n",
       "      <th>5</th>\n",
       "      <td>  Andrew</td>\n",
       "      <td> Stanford</td>\n",
       "      <td> 2011</td>\n",
       "    </tr>\n",
       "    <tr>\n",
       "      <th>6</th>\n",
       "      <td>    Doug</td>\n",
       "      <td> Michigan</td>\n",
       "      <td> 2012</td>\n",
       "    </tr>\n",
       "  </tbody>\n",
       "</table>\n",
       "</div>"
      ],
      "text/plain": [
       "      name    school  year\n",
       "0   Kasper  Cal Poly  2012\n",
       "1    Ellen       UCB  2011\n",
       "2     Lexi  Stanford  2011\n",
       "3  Cecilia  Cal Tech  2012\n",
       "4    Jason      UCSB  2013\n",
       "5   Andrew  Stanford  2011\n",
       "6     Doug  Michigan  2012"
      ]
     },
     "execution_count": 2,
     "metadata": {},
     "output_type": "execute_result"
    }
   ],
   "source": [
    "employees = {\"name\": [\"Kasper\", \"Ellen\", \"Lexi\", \"Cecilia\", \"Jason\", \"Andrew\", \"Doug\"],\n",
    "             \"year\": [2012, 2011, 2011, 2012, 2013, 2011, 2012],\n",
    "             \"school\": [\"Cal Poly\", \"UCB\", \"Stanford\", \"Cal Tech\", \"UCSB\", \"Stanford\", \"Michigan\"]}\n",
    "frame = DataFrame(employees)\n",
    "frame"
   ]
  },
  {
   "cell_type": "markdown",
   "metadata": {},
   "source": [
    "You can pass the name of the columns if you would like them to appear in a specific order."
   ]
  },
  {
   "cell_type": "code",
   "execution_count": 3,
   "metadata": {
    "collapsed": false
   },
   "outputs": [
    {
     "data": {
      "text/html": [
       "<div style=\"max-height:1000px;max-width:1500px;overflow:auto;\">\n",
       "<table border=\"1\" class=\"dataframe\">\n",
       "  <thead>\n",
       "    <tr style=\"text-align: right;\">\n",
       "      <th></th>\n",
       "      <th>name</th>\n",
       "      <th>year</th>\n",
       "      <th>school</th>\n",
       "    </tr>\n",
       "  </thead>\n",
       "  <tbody>\n",
       "    <tr>\n",
       "      <th>0</th>\n",
       "      <td>  Kasper</td>\n",
       "      <td> 2012</td>\n",
       "      <td> Cal Poly</td>\n",
       "    </tr>\n",
       "    <tr>\n",
       "      <th>1</th>\n",
       "      <td>   Ellen</td>\n",
       "      <td> 2011</td>\n",
       "      <td>      UCB</td>\n",
       "    </tr>\n",
       "    <tr>\n",
       "      <th>2</th>\n",
       "      <td>    Lexi</td>\n",
       "      <td> 2011</td>\n",
       "      <td> Stanford</td>\n",
       "    </tr>\n",
       "    <tr>\n",
       "      <th>3</th>\n",
       "      <td> Cecilia</td>\n",
       "      <td> 2012</td>\n",
       "      <td> Cal Tech</td>\n",
       "    </tr>\n",
       "    <tr>\n",
       "      <th>4</th>\n",
       "      <td>   Jason</td>\n",
       "      <td> 2013</td>\n",
       "      <td>     UCSB</td>\n",
       "    </tr>\n",
       "    <tr>\n",
       "      <th>5</th>\n",
       "      <td>  Andrew</td>\n",
       "      <td> 2011</td>\n",
       "      <td> Stanford</td>\n",
       "    </tr>\n",
       "    <tr>\n",
       "      <th>6</th>\n",
       "      <td>    Doug</td>\n",
       "      <td> 2012</td>\n",
       "      <td> Michigan</td>\n",
       "    </tr>\n",
       "  </tbody>\n",
       "</table>\n",
       "</div>"
      ],
      "text/plain": [
       "      name  year    school\n",
       "0   Kasper  2012  Cal Poly\n",
       "1    Ellen  2011       UCB\n",
       "2     Lexi  2011  Stanford\n",
       "3  Cecilia  2012  Cal Tech\n",
       "4    Jason  2013      UCSB\n",
       "5   Andrew  2011  Stanford\n",
       "6     Doug  2012  Michigan"
      ]
     },
     "execution_count": 3,
     "metadata": {},
     "output_type": "execute_result"
    }
   ],
   "source": [
    "DataFrame(employees, columns = [\"name\", \"year\", \"school\"])"
   ]
  },
  {
   "cell_type": "markdown",
   "metadata": {},
   "source": [
    "Passing a column not in the data produces null values (the same way it does with Series)."
   ]
  },
  {
   "cell_type": "code",
   "execution_count": 4,
   "metadata": {
    "collapsed": false
   },
   "outputs": [
    {
     "data": {
      "text/html": [
       "<div style=\"max-height:1000px;max-width:1500px;overflow:auto;\">\n",
       "<table border=\"1\" class=\"dataframe\">\n",
       "  <thead>\n",
       "    <tr style=\"text-align: right;\">\n",
       "      <th></th>\n",
       "      <th>name</th>\n",
       "      <th>year</th>\n",
       "      <th>school</th>\n",
       "      <th>hometown</th>\n",
       "    </tr>\n",
       "  </thead>\n",
       "  <tbody>\n",
       "    <tr>\n",
       "      <th>one</th>\n",
       "      <td>  Kasper</td>\n",
       "      <td> 2012</td>\n",
       "      <td> Cal Poly</td>\n",
       "      <td> NaN</td>\n",
       "    </tr>\n",
       "    <tr>\n",
       "      <th>two</th>\n",
       "      <td>   Ellen</td>\n",
       "      <td> 2011</td>\n",
       "      <td>      UCB</td>\n",
       "      <td> NaN</td>\n",
       "    </tr>\n",
       "    <tr>\n",
       "      <th>three</th>\n",
       "      <td>    Lexi</td>\n",
       "      <td> 2011</td>\n",
       "      <td> Stanford</td>\n",
       "      <td> NaN</td>\n",
       "    </tr>\n",
       "    <tr>\n",
       "      <th>four</th>\n",
       "      <td> Cecilia</td>\n",
       "      <td> 2012</td>\n",
       "      <td> Cal Tech</td>\n",
       "      <td> NaN</td>\n",
       "    </tr>\n",
       "    <tr>\n",
       "      <th>five</th>\n",
       "      <td>   Jason</td>\n",
       "      <td> 2013</td>\n",
       "      <td>     UCSB</td>\n",
       "      <td> NaN</td>\n",
       "    </tr>\n",
       "    <tr>\n",
       "      <th>six</th>\n",
       "      <td>  Andrew</td>\n",
       "      <td> 2011</td>\n",
       "      <td> Stanford</td>\n",
       "      <td> NaN</td>\n",
       "    </tr>\n",
       "    <tr>\n",
       "      <th>seven</th>\n",
       "      <td>    Doug</td>\n",
       "      <td> 2012</td>\n",
       "      <td> Michigan</td>\n",
       "      <td> NaN</td>\n",
       "    </tr>\n",
       "  </tbody>\n",
       "</table>\n",
       "</div>"
      ],
      "text/plain": [
       "          name  year    school hometown\n",
       "one     Kasper  2012  Cal Poly      NaN\n",
       "two      Ellen  2011       UCB      NaN\n",
       "three     Lexi  2011  Stanford      NaN\n",
       "four   Cecilia  2012  Cal Tech      NaN\n",
       "five     Jason  2013      UCSB      NaN\n",
       "six     Andrew  2011  Stanford      NaN\n",
       "seven     Doug  2012  Michigan      NaN"
      ]
     },
     "execution_count": 4,
     "metadata": {},
     "output_type": "execute_result"
    }
   ],
   "source": [
    "frame2 = DataFrame(employees, columns = [\"name\", \"year\", \"school\", \"hometown\"],\n",
    "                       index = [\"one\", \"two\", \"three\", \"four\", \"five\", \"six\", \"seven\"])\n",
    "frame2"
   ]
  },
  {
   "cell_type": "markdown",
   "metadata": {},
   "source": [
    "A column can be retrieved as a Series in a couple different ways."
   ]
  },
  {
   "cell_type": "code",
   "execution_count": 5,
   "metadata": {
    "collapsed": false
   },
   "outputs": [
    {
     "data": {
      "text/plain": [
       "one       Kasper\n",
       "two        Ellen\n",
       "three       Lexi\n",
       "four     Cecilia\n",
       "five       Jason\n",
       "six       Andrew\n",
       "seven       Doug\n",
       "Name: name, dtype: object"
      ]
     },
     "execution_count": 5,
     "metadata": {},
     "output_type": "execute_result"
    }
   ],
   "source": [
    "frame2[\"name\"]"
   ]
  },
  {
   "cell_type": "code",
   "execution_count": 6,
   "metadata": {
    "collapsed": false
   },
   "outputs": [
    {
     "data": {
      "text/plain": [
       "one       Kasper\n",
       "two        Ellen\n",
       "three       Lexi\n",
       "four     Cecilia\n",
       "five       Jason\n",
       "six       Andrew\n",
       "seven       Doug\n",
       "Name: name, dtype: object"
      ]
     },
     "execution_count": 6,
     "metadata": {},
     "output_type": "execute_result"
    }
   ],
   "source": [
    "frame2.name"
   ]
  },
  {
   "cell_type": "markdown",
   "metadata": {},
   "source": [
    "You can retrieve rows the same way you retrieve columns using the ix method."
   ]
  },
  {
   "cell_type": "code",
   "execution_count": 7,
   "metadata": {
    "collapsed": false
   },
   "outputs": [
    {
     "data": {
      "text/plain": [
       "name         Cecilia\n",
       "year            2012\n",
       "school      Cal Tech\n",
       "hometown         NaN\n",
       "Name: four, dtype: object"
      ]
     },
     "execution_count": 7,
     "metadata": {},
     "output_type": "execute_result"
    }
   ],
   "source": [
    "frame2.ix[\"four\"]"
   ]
  },
  {
   "cell_type": "markdown",
   "metadata": {
    "collapsed": true
   },
   "source": [
    "You can modify columns by assignment. Note: The assigned value's length must be the same as the length of the DataFrame."
   ]
  },
  {
   "cell_type": "code",
   "execution_count": 8,
   "metadata": {
    "collapsed": false
   },
   "outputs": [
    {
     "data": {
      "text/html": [
       "<div style=\"max-height:1000px;max-width:1500px;overflow:auto;\">\n",
       "<table border=\"1\" class=\"dataframe\">\n",
       "  <thead>\n",
       "    <tr style=\"text-align: right;\">\n",
       "      <th></th>\n",
       "      <th>name</th>\n",
       "      <th>year</th>\n",
       "      <th>school</th>\n",
       "      <th>hometown</th>\n",
       "    </tr>\n",
       "  </thead>\n",
       "  <tbody>\n",
       "    <tr>\n",
       "      <th>one</th>\n",
       "      <td>  Kasper</td>\n",
       "      <td> 2012</td>\n",
       "      <td> Cal Poly</td>\n",
       "      <td> SF</td>\n",
       "    </tr>\n",
       "    <tr>\n",
       "      <th>two</th>\n",
       "      <td>   Ellen</td>\n",
       "      <td> 2011</td>\n",
       "      <td>      UCB</td>\n",
       "      <td> SF</td>\n",
       "    </tr>\n",
       "    <tr>\n",
       "      <th>three</th>\n",
       "      <td>    Lexi</td>\n",
       "      <td> 2011</td>\n",
       "      <td> Stanford</td>\n",
       "      <td> SF</td>\n",
       "    </tr>\n",
       "    <tr>\n",
       "      <th>four</th>\n",
       "      <td> Cecilia</td>\n",
       "      <td> 2012</td>\n",
       "      <td> Cal Tech</td>\n",
       "      <td> SF</td>\n",
       "    </tr>\n",
       "    <tr>\n",
       "      <th>five</th>\n",
       "      <td>   Jason</td>\n",
       "      <td> 2013</td>\n",
       "      <td>     UCSB</td>\n",
       "      <td> SF</td>\n",
       "    </tr>\n",
       "    <tr>\n",
       "      <th>six</th>\n",
       "      <td>  Andrew</td>\n",
       "      <td> 2011</td>\n",
       "      <td> Stanford</td>\n",
       "      <td> SF</td>\n",
       "    </tr>\n",
       "    <tr>\n",
       "      <th>seven</th>\n",
       "      <td>    Doug</td>\n",
       "      <td> 2012</td>\n",
       "      <td> Michigan</td>\n",
       "      <td> SF</td>\n",
       "    </tr>\n",
       "  </tbody>\n",
       "</table>\n",
       "</div>"
      ],
      "text/plain": [
       "          name  year    school hometown\n",
       "one     Kasper  2012  Cal Poly       SF\n",
       "two      Ellen  2011       UCB       SF\n",
       "three     Lexi  2011  Stanford       SF\n",
       "four   Cecilia  2012  Cal Tech       SF\n",
       "five     Jason  2013      UCSB       SF\n",
       "six     Andrew  2011  Stanford       SF\n",
       "seven     Doug  2012  Michigan       SF"
      ]
     },
     "execution_count": 8,
     "metadata": {},
     "output_type": "execute_result"
    }
   ],
   "source": [
    "frame2[\"hometown\"] = \"SF\"\n",
    "frame2"
   ]
  },
  {
   "cell_type": "code",
   "execution_count": 9,
   "metadata": {
    "collapsed": false
   },
   "outputs": [
    {
     "data": {
      "text/html": [
       "<div style=\"max-height:1000px;max-width:1500px;overflow:auto;\">\n",
       "<table border=\"1\" class=\"dataframe\">\n",
       "  <thead>\n",
       "    <tr style=\"text-align: right;\">\n",
       "      <th></th>\n",
       "      <th>name</th>\n",
       "      <th>year</th>\n",
       "      <th>school</th>\n",
       "      <th>hometown</th>\n",
       "    </tr>\n",
       "  </thead>\n",
       "  <tbody>\n",
       "    <tr>\n",
       "      <th>one</th>\n",
       "      <td>  Kasper</td>\n",
       "      <td> 0</td>\n",
       "      <td> Cal Poly</td>\n",
       "      <td> SF</td>\n",
       "    </tr>\n",
       "    <tr>\n",
       "      <th>two</th>\n",
       "      <td>   Ellen</td>\n",
       "      <td> 1</td>\n",
       "      <td>      UCB</td>\n",
       "      <td> SF</td>\n",
       "    </tr>\n",
       "    <tr>\n",
       "      <th>three</th>\n",
       "      <td>    Lexi</td>\n",
       "      <td> 2</td>\n",
       "      <td> Stanford</td>\n",
       "      <td> SF</td>\n",
       "    </tr>\n",
       "    <tr>\n",
       "      <th>four</th>\n",
       "      <td> Cecilia</td>\n",
       "      <td> 3</td>\n",
       "      <td> Cal Tech</td>\n",
       "      <td> SF</td>\n",
       "    </tr>\n",
       "    <tr>\n",
       "      <th>five</th>\n",
       "      <td>   Jason</td>\n",
       "      <td> 4</td>\n",
       "      <td>     UCSB</td>\n",
       "      <td> SF</td>\n",
       "    </tr>\n",
       "    <tr>\n",
       "      <th>six</th>\n",
       "      <td>  Andrew</td>\n",
       "      <td> 5</td>\n",
       "      <td> Stanford</td>\n",
       "      <td> SF</td>\n",
       "    </tr>\n",
       "    <tr>\n",
       "      <th>seven</th>\n",
       "      <td>    Doug</td>\n",
       "      <td> 6</td>\n",
       "      <td> Michigan</td>\n",
       "      <td> SF</td>\n",
       "    </tr>\n",
       "  </tbody>\n",
       "</table>\n",
       "</div>"
      ],
      "text/plain": [
       "          name  year    school hometown\n",
       "one     Kasper     0  Cal Poly       SF\n",
       "two      Ellen     1       UCB       SF\n",
       "three     Lexi     2  Stanford       SF\n",
       "four   Cecilia     3  Cal Tech       SF\n",
       "five     Jason     4      UCSB       SF\n",
       "six     Andrew     5  Stanford       SF\n",
       "seven     Doug     6  Michigan       SF"
      ]
     },
     "execution_count": 9,
     "metadata": {},
     "output_type": "execute_result"
    }
   ],
   "source": [
    "frame2[\"year\"] = np.arange(7.)\n",
    "frame2"
   ]
  },
  {
   "cell_type": "markdown",
   "metadata": {},
   "source": [
    "When assigning lists or arrays to a column, the length of the array must match the length of the DataFrame. When assigning a Series, it will match up the indexes of the Series and the DataFrame and insert null values into any holes."
   ]
  },
  {
   "cell_type": "code",
   "execution_count": 10,
   "metadata": {
    "collapsed": false
   },
   "outputs": [
    {
     "data": {
      "text/html": [
       "<div style=\"max-height:1000px;max-width:1500px;overflow:auto;\">\n",
       "<table border=\"1\" class=\"dataframe\">\n",
       "  <thead>\n",
       "    <tr style=\"text-align: right;\">\n",
       "      <th></th>\n",
       "      <th>name</th>\n",
       "      <th>year</th>\n",
       "      <th>school</th>\n",
       "      <th>hometown</th>\n",
       "    </tr>\n",
       "  </thead>\n",
       "  <tbody>\n",
       "    <tr>\n",
       "      <th>one</th>\n",
       "      <td>  Kasper</td>\n",
       "      <td>NaN</td>\n",
       "      <td> Cal Poly</td>\n",
       "      <td> SF</td>\n",
       "    </tr>\n",
       "    <tr>\n",
       "      <th>two</th>\n",
       "      <td>   Ellen</td>\n",
       "      <td>  3</td>\n",
       "      <td>      UCB</td>\n",
       "      <td> SF</td>\n",
       "    </tr>\n",
       "    <tr>\n",
       "      <th>three</th>\n",
       "      <td>    Lexi</td>\n",
       "      <td>  3</td>\n",
       "      <td> Stanford</td>\n",
       "      <td> SF</td>\n",
       "    </tr>\n",
       "    <tr>\n",
       "      <th>four</th>\n",
       "      <td> Cecilia</td>\n",
       "      <td>  2</td>\n",
       "      <td> Cal Tech</td>\n",
       "      <td> SF</td>\n",
       "    </tr>\n",
       "    <tr>\n",
       "      <th>five</th>\n",
       "      <td>   Jason</td>\n",
       "      <td>  1</td>\n",
       "      <td>     UCSB</td>\n",
       "      <td> SF</td>\n",
       "    </tr>\n",
       "    <tr>\n",
       "      <th>six</th>\n",
       "      <td>  Andrew</td>\n",
       "      <td>  7</td>\n",
       "      <td> Stanford</td>\n",
       "      <td> SF</td>\n",
       "    </tr>\n",
       "    <tr>\n",
       "      <th>seven</th>\n",
       "      <td>    Doug</td>\n",
       "      <td>NaN</td>\n",
       "      <td> Michigan</td>\n",
       "      <td> SF</td>\n",
       "    </tr>\n",
       "  </tbody>\n",
       "</table>\n",
       "</div>"
      ],
      "text/plain": [
       "          name  year    school hometown\n",
       "one     Kasper   NaN  Cal Poly       SF\n",
       "two      Ellen     3       UCB       SF\n",
       "three     Lexi     3  Stanford       SF\n",
       "four   Cecilia     2  Cal Tech       SF\n",
       "five     Jason     1      UCSB       SF\n",
       "six     Andrew     7  Stanford       SF\n",
       "seven     Doug   NaN  Michigan       SF"
      ]
     },
     "execution_count": 10,
     "metadata": {},
     "output_type": "execute_result"
    }
   ],
   "source": [
    "exp = Series([3, 3, 2, 1, 7], index = [\"two\", \"three\", \"four\", \"five\", \"six\"])\n",
    "frame2[\"year\"] = exp\n",
    "frame2"
   ]
  },
  {
   "cell_type": "markdown",
   "metadata": {},
   "source": [
    "Assigning a column that doesn't exist creates a new column. You can also use del to delete a column."
   ]
  },
  {
   "cell_type": "code",
   "execution_count": 11,
   "metadata": {
    "collapsed": false
   },
   "outputs": [
    {
     "data": {
      "text/html": [
       "<div style=\"max-height:1000px;max-width:1500px;overflow:auto;\">\n",
       "<table border=\"1\" class=\"dataframe\">\n",
       "  <thead>\n",
       "    <tr style=\"text-align: right;\">\n",
       "      <th></th>\n",
       "      <th>name</th>\n",
       "      <th>year</th>\n",
       "      <th>school</th>\n",
       "      <th>hometown</th>\n",
       "      <th>status</th>\n",
       "    </tr>\n",
       "  </thead>\n",
       "  <tbody>\n",
       "    <tr>\n",
       "      <th>one</th>\n",
       "      <td>  Kasper</td>\n",
       "      <td>NaN</td>\n",
       "      <td> Cal Poly</td>\n",
       "      <td> SF</td>\n",
       "      <td> intern</td>\n",
       "    </tr>\n",
       "    <tr>\n",
       "      <th>two</th>\n",
       "      <td>   Ellen</td>\n",
       "      <td>  3</td>\n",
       "      <td>      UCB</td>\n",
       "      <td> SF</td>\n",
       "      <td> intern</td>\n",
       "    </tr>\n",
       "    <tr>\n",
       "      <th>three</th>\n",
       "      <td>    Lexi</td>\n",
       "      <td>  3</td>\n",
       "      <td> Stanford</td>\n",
       "      <td> SF</td>\n",
       "      <td> intern</td>\n",
       "    </tr>\n",
       "    <tr>\n",
       "      <th>four</th>\n",
       "      <td> Cecilia</td>\n",
       "      <td>  2</td>\n",
       "      <td> Cal Tech</td>\n",
       "      <td> SF</td>\n",
       "      <td> intern</td>\n",
       "    </tr>\n",
       "    <tr>\n",
       "      <th>five</th>\n",
       "      <td>   Jason</td>\n",
       "      <td>  1</td>\n",
       "      <td>     UCSB</td>\n",
       "      <td> SF</td>\n",
       "      <td> intern</td>\n",
       "    </tr>\n",
       "    <tr>\n",
       "      <th>six</th>\n",
       "      <td>  Andrew</td>\n",
       "      <td>  7</td>\n",
       "      <td> Stanford</td>\n",
       "      <td> SF</td>\n",
       "      <td> intern</td>\n",
       "    </tr>\n",
       "    <tr>\n",
       "      <th>seven</th>\n",
       "      <td>    Doug</td>\n",
       "      <td>NaN</td>\n",
       "      <td> Michigan</td>\n",
       "      <td> SF</td>\n",
       "      <td> intern</td>\n",
       "    </tr>\n",
       "  </tbody>\n",
       "</table>\n",
       "</div>"
      ],
      "text/plain": [
       "          name  year    school hometown  status\n",
       "one     Kasper   NaN  Cal Poly       SF  intern\n",
       "two      Ellen     3       UCB       SF  intern\n",
       "three     Lexi     3  Stanford       SF  intern\n",
       "four   Cecilia     2  Cal Tech       SF  intern\n",
       "five     Jason     1      UCSB       SF  intern\n",
       "six     Andrew     7  Stanford       SF  intern\n",
       "seven     Doug   NaN  Michigan       SF  intern"
      ]
     },
     "execution_count": 11,
     "metadata": {},
     "output_type": "execute_result"
    }
   ],
   "source": [
    "frame2[\"status\"] = \"intern\"\n",
    "frame2"
   ]
  },
  {
   "cell_type": "code",
   "execution_count": 12,
   "metadata": {
    "collapsed": false
   },
   "outputs": [
    {
     "data": {
      "text/html": [
       "<div style=\"max-height:1000px;max-width:1500px;overflow:auto;\">\n",
       "<table border=\"1\" class=\"dataframe\">\n",
       "  <thead>\n",
       "    <tr style=\"text-align: right;\">\n",
       "      <th></th>\n",
       "      <th>name</th>\n",
       "      <th>year</th>\n",
       "      <th>school</th>\n",
       "      <th>hometown</th>\n",
       "    </tr>\n",
       "  </thead>\n",
       "  <tbody>\n",
       "    <tr>\n",
       "      <th>one</th>\n",
       "      <td>  Kasper</td>\n",
       "      <td>NaN</td>\n",
       "      <td> Cal Poly</td>\n",
       "      <td> SF</td>\n",
       "    </tr>\n",
       "    <tr>\n",
       "      <th>two</th>\n",
       "      <td>   Ellen</td>\n",
       "      <td>  3</td>\n",
       "      <td>      UCB</td>\n",
       "      <td> SF</td>\n",
       "    </tr>\n",
       "    <tr>\n",
       "      <th>three</th>\n",
       "      <td>    Lexi</td>\n",
       "      <td>  3</td>\n",
       "      <td> Stanford</td>\n",
       "      <td> SF</td>\n",
       "    </tr>\n",
       "    <tr>\n",
       "      <th>four</th>\n",
       "      <td> Cecilia</td>\n",
       "      <td>  2</td>\n",
       "      <td> Cal Tech</td>\n",
       "      <td> SF</td>\n",
       "    </tr>\n",
       "    <tr>\n",
       "      <th>five</th>\n",
       "      <td>   Jason</td>\n",
       "      <td>  1</td>\n",
       "      <td>     UCSB</td>\n",
       "      <td> SF</td>\n",
       "    </tr>\n",
       "    <tr>\n",
       "      <th>six</th>\n",
       "      <td>  Andrew</td>\n",
       "      <td>  7</td>\n",
       "      <td> Stanford</td>\n",
       "      <td> SF</td>\n",
       "    </tr>\n",
       "    <tr>\n",
       "      <th>seven</th>\n",
       "      <td>    Doug</td>\n",
       "      <td>NaN</td>\n",
       "      <td> Michigan</td>\n",
       "      <td> SF</td>\n",
       "    </tr>\n",
       "  </tbody>\n",
       "</table>\n",
       "</div>"
      ],
      "text/plain": [
       "          name  year    school hometown\n",
       "one     Kasper   NaN  Cal Poly       SF\n",
       "two      Ellen     3       UCB       SF\n",
       "three     Lexi     3  Stanford       SF\n",
       "four   Cecilia     2  Cal Tech       SF\n",
       "five     Jason     1      UCSB       SF\n",
       "six     Andrew     7  Stanford       SF\n",
       "seven     Doug   NaN  Michigan       SF"
      ]
     },
     "execution_count": 12,
     "metadata": {},
     "output_type": "execute_result"
    }
   ],
   "source": [
    "del frame2[\"status\"]\n",
    "frame2"
   ]
  },
  {
   "cell_type": "markdown",
   "metadata": {},
   "source": [
    "The nested dict of dicts format is another form of data."
   ]
  },
  {
   "cell_type": "code",
   "execution_count": 13,
   "metadata": {
    "collapsed": false
   },
   "outputs": [
    {
     "data": {
      "text/html": [
       "<div style=\"max-height:1000px;max-width:1500px;overflow:auto;\">\n",
       "<table border=\"1\" class=\"dataframe\">\n",
       "  <thead>\n",
       "    <tr style=\"text-align: right;\">\n",
       "      <th></th>\n",
       "      <th>Dodgers</th>\n",
       "      <th>Giants</th>\n",
       "      <th>Padres</th>\n",
       "    </tr>\n",
       "  </thead>\n",
       "  <tbody>\n",
       "    <tr>\n",
       "      <th>2009</th>\n",
       "      <td>NaN</td>\n",
       "      <td> 88</td>\n",
       "      <td>NaN</td>\n",
       "    </tr>\n",
       "    <tr>\n",
       "      <th>2010</th>\n",
       "      <td> 80</td>\n",
       "      <td> 92</td>\n",
       "      <td> 90</td>\n",
       "    </tr>\n",
       "    <tr>\n",
       "      <th>2011</th>\n",
       "      <td> 82</td>\n",
       "      <td> 86</td>\n",
       "      <td> 71</td>\n",
       "    </tr>\n",
       "    <tr>\n",
       "      <th>2012</th>\n",
       "      <td> 86</td>\n",
       "      <td> 94</td>\n",
       "      <td> 76</td>\n",
       "    </tr>\n",
       "    <tr>\n",
       "      <th>2013</th>\n",
       "      <td> 92</td>\n",
       "      <td> 76</td>\n",
       "      <td> 76</td>\n",
       "    </tr>\n",
       "    <tr>\n",
       "      <th>2014</th>\n",
       "      <td> 94</td>\n",
       "      <td> 88</td>\n",
       "      <td> 77</td>\n",
       "    </tr>\n",
       "  </tbody>\n",
       "</table>\n",
       "</div>"
      ],
      "text/plain": [
       "      Dodgers  Giants  Padres\n",
       "2009      NaN      88     NaN\n",
       "2010       80      92      90\n",
       "2011       82      86      71\n",
       "2012       86      94      76\n",
       "2013       92      76      76\n",
       "2014       94      88      77"
      ]
     },
     "execution_count": 13,
     "metadata": {},
     "output_type": "execute_result"
    }
   ],
   "source": [
    "wins = {\"Giants\": {2009: 88, 2010: 92, 2011: 86, 2012: 94, 2013: 76, 2014: 88},\n",
    "        \"Dodgers\": {2010: 80, 2011: 82, 2012: 86, 2013: 92, 2014: 94},\n",
    "        \"Padres\": {2010: 90, 2011: 71, 2012: 76, 2013: 76, 2014: 77}}\n",
    "frame3 = DataFrame(wins)\n",
    "frame3"
   ]
  },
  {
   "cell_type": "markdown",
   "metadata": {},
   "source": [
    "You can transpose the results if you want to flip columns with indexes."
   ]
  },
  {
   "cell_type": "code",
   "execution_count": 14,
   "metadata": {
    "collapsed": false
   },
   "outputs": [
    {
     "data": {
      "text/html": [
       "<div style=\"max-height:1000px;max-width:1500px;overflow:auto;\">\n",
       "<table border=\"1\" class=\"dataframe\">\n",
       "  <thead>\n",
       "    <tr style=\"text-align: right;\">\n",
       "      <th></th>\n",
       "      <th>2009</th>\n",
       "      <th>2010</th>\n",
       "      <th>2011</th>\n",
       "      <th>2012</th>\n",
       "      <th>2013</th>\n",
       "      <th>2014</th>\n",
       "    </tr>\n",
       "  </thead>\n",
       "  <tbody>\n",
       "    <tr>\n",
       "      <th>Dodgers</th>\n",
       "      <td>NaN</td>\n",
       "      <td> 80</td>\n",
       "      <td> 82</td>\n",
       "      <td> 86</td>\n",
       "      <td> 92</td>\n",
       "      <td> 94</td>\n",
       "    </tr>\n",
       "    <tr>\n",
       "      <th>Giants</th>\n",
       "      <td> 88</td>\n",
       "      <td> 92</td>\n",
       "      <td> 86</td>\n",
       "      <td> 94</td>\n",
       "      <td> 76</td>\n",
       "      <td> 88</td>\n",
       "    </tr>\n",
       "    <tr>\n",
       "      <th>Padres</th>\n",
       "      <td>NaN</td>\n",
       "      <td> 90</td>\n",
       "      <td> 71</td>\n",
       "      <td> 76</td>\n",
       "      <td> 76</td>\n",
       "      <td> 77</td>\n",
       "    </tr>\n",
       "  </tbody>\n",
       "</table>\n",
       "</div>"
      ],
      "text/plain": [
       "         2009  2010  2011  2012  2013  2014\n",
       "Dodgers   NaN    80    82    86    92    94\n",
       "Giants     88    92    86    94    76    88\n",
       "Padres    NaN    90    71    76    76    77"
      ]
     },
     "execution_count": 14,
     "metadata": {},
     "output_type": "execute_result"
    }
   ],
   "source": [
    "frame3.T"
   ]
  },
  {
   "cell_type": "markdown",
   "metadata": {
    "collapsed": true
   },
   "source": [
    "The keys of the inner dicts are combined to form the index of the result, unless a specific index is specified."
   ]
  },
  {
   "cell_type": "code",
   "execution_count": 15,
   "metadata": {
    "collapsed": false
   },
   "outputs": [
    {
     "data": {
      "text/html": [
       "<div style=\"max-height:1000px;max-width:1500px;overflow:auto;\">\n",
       "<table border=\"1\" class=\"dataframe\">\n",
       "  <thead>\n",
       "    <tr style=\"text-align: right;\">\n",
       "      <th></th>\n",
       "      <th>Dodgers</th>\n",
       "      <th>Giants</th>\n",
       "      <th>Padres</th>\n",
       "    </tr>\n",
       "  </thead>\n",
       "  <tbody>\n",
       "    <tr>\n",
       "      <th>2008</th>\n",
       "      <td>NaN</td>\n",
       "      <td>NaN</td>\n",
       "      <td>NaN</td>\n",
       "    </tr>\n",
       "    <tr>\n",
       "      <th>2009</th>\n",
       "      <td>NaN</td>\n",
       "      <td> 88</td>\n",
       "      <td>NaN</td>\n",
       "    </tr>\n",
       "    <tr>\n",
       "      <th>2010</th>\n",
       "      <td> 80</td>\n",
       "      <td> 92</td>\n",
       "      <td> 90</td>\n",
       "    </tr>\n",
       "    <tr>\n",
       "      <th>2011</th>\n",
       "      <td> 82</td>\n",
       "      <td> 86</td>\n",
       "      <td> 71</td>\n",
       "    </tr>\n",
       "  </tbody>\n",
       "</table>\n",
       "</div>"
      ],
      "text/plain": [
       "      Dodgers  Giants  Padres\n",
       "2008      NaN     NaN     NaN\n",
       "2009      NaN      88     NaN\n",
       "2010       80      92      90\n",
       "2011       82      86      71"
      ]
     },
     "execution_count": 15,
     "metadata": {},
     "output_type": "execute_result"
    }
   ],
   "source": [
    "DataFrame(wins, index = [2008, 2009, 2010, 2011])"
   ]
  },
  {
   "cell_type": "markdown",
   "metadata": {},
   "source": [
    "The index and column names can also be displayed if their name attributes are set."
   ]
  },
  {
   "cell_type": "code",
   "execution_count": 16,
   "metadata": {
    "collapsed": false
   },
   "outputs": [
    {
     "data": {
      "text/html": [
       "<div style=\"max-height:1000px;max-width:1500px;overflow:auto;\">\n",
       "<table border=\"1\" class=\"dataframe\">\n",
       "  <thead>\n",
       "    <tr style=\"text-align: right;\">\n",
       "      <th>team</th>\n",
       "      <th>Dodgers</th>\n",
       "      <th>Giants</th>\n",
       "      <th>Padres</th>\n",
       "    </tr>\n",
       "    <tr>\n",
       "      <th>year</th>\n",
       "      <th></th>\n",
       "      <th></th>\n",
       "      <th></th>\n",
       "    </tr>\n",
       "  </thead>\n",
       "  <tbody>\n",
       "    <tr>\n",
       "      <th>2009</th>\n",
       "      <td>NaN</td>\n",
       "      <td> 88</td>\n",
       "      <td>NaN</td>\n",
       "    </tr>\n",
       "    <tr>\n",
       "      <th>2010</th>\n",
       "      <td> 80</td>\n",
       "      <td> 92</td>\n",
       "      <td> 90</td>\n",
       "    </tr>\n",
       "    <tr>\n",
       "      <th>2011</th>\n",
       "      <td> 82</td>\n",
       "      <td> 86</td>\n",
       "      <td> 71</td>\n",
       "    </tr>\n",
       "    <tr>\n",
       "      <th>2012</th>\n",
       "      <td> 86</td>\n",
       "      <td> 94</td>\n",
       "      <td> 76</td>\n",
       "    </tr>\n",
       "    <tr>\n",
       "      <th>2013</th>\n",
       "      <td> 92</td>\n",
       "      <td> 76</td>\n",
       "      <td> 76</td>\n",
       "    </tr>\n",
       "    <tr>\n",
       "      <th>2014</th>\n",
       "      <td> 94</td>\n",
       "      <td> 88</td>\n",
       "      <td> 77</td>\n",
       "    </tr>\n",
       "  </tbody>\n",
       "</table>\n",
       "</div>"
      ],
      "text/plain": [
       "team  Dodgers  Giants  Padres\n",
       "year                         \n",
       "2009      NaN      88     NaN\n",
       "2010       80      92      90\n",
       "2011       82      86      71\n",
       "2012       86      94      76\n",
       "2013       92      76      76\n",
       "2014       94      88      77"
      ]
     },
     "execution_count": 16,
     "metadata": {},
     "output_type": "execute_result"
    }
   ],
   "source": [
    "frame3.index.name = \"year\"\n",
    "frame3.columns.name = \"team\"\n",
    "frame3"
   ]
  },
  {
   "cell_type": "markdown",
   "metadata": {},
   "source": [
    "The values attribute returns the DataFrame's information, just as it does with Series's information."
   ]
  },
  {
   "cell_type": "code",
   "execution_count": 17,
   "metadata": {
    "collapsed": false
   },
   "outputs": [
    {
     "data": {
      "text/plain": [
       "array([[ nan,  88.,  nan],\n",
       "       [ 80.,  92.,  90.],\n",
       "       [ 82.,  86.,  71.],\n",
       "       [ 86.,  94.,  76.],\n",
       "       [ 92.,  76.,  76.],\n",
       "       [ 94.,  88.,  77.]])"
      ]
     },
     "execution_count": 17,
     "metadata": {},
     "output_type": "execute_result"
    }
   ],
   "source": [
    "frame3.values"
   ]
  },
  {
   "cell_type": "markdown",
   "metadata": {},
   "source": [
    "### Index Objects"
   ]
  },
  {
   "cell_type": "markdown",
   "metadata": {},
   "source": [
    "Index Objects (in pandas) hold things like axis labels or axis names. Index objects are immutable, meaning they can't be changed. This allows them to be safely shared among data structures. Each index has various methods that provide information about the data they contain. Some examples are as follows:\n",
    "- append (concatenate with additional index objects)\n",
    "- diff (set difference)\n",
    "- intersection (set intersection)\n",
    "- union (set union)\n",
    "- delete (delete element at index i)\n",
    "\n",
    "IMPORTANT: All of these methods create a new index, they do not modify the old index"
   ]
  },
  {
   "cell_type": "markdown",
   "metadata": {
    "collapsed": true
   },
   "source": [
    "### Reindexing"
   ]
  },
  {
   "cell_type": "markdown",
   "metadata": {},
   "source": [
    "A pandas method called reindex allows you to create a new object with the new data conformed to a new index. Any missing index from the original object will be filled with a null unless a fill value is specified."
   ]
  },
  {
   "cell_type": "code",
   "execution_count": 20,
   "metadata": {
    "collapsed": false
   },
   "outputs": [
    {
     "data": {
      "text/plain": [
       "e    13\n",
       "r    14\n",
       "i     1\n",
       "c    22\n",
       "dtype: int64"
      ]
     },
     "execution_count": 20,
     "metadata": {},
     "output_type": "execute_result"
    }
   ],
   "source": [
    "object1 = Series([13, 14, 1, 22], index = [\"e\", \"r\", \"i\", \"c\"])\n",
    "object1"
   ]
  },
  {
   "cell_type": "code",
   "execution_count": 24,
   "metadata": {
    "collapsed": false
   },
   "outputs": [
    {
     "data": {
      "text/plain": [
       "o   NaN\n",
       "c    22\n",
       "i     1\n",
       "m   NaN\n",
       "e    13\n",
       "dtype: float64"
      ]
     },
     "execution_count": 24,
     "metadata": {},
     "output_type": "execute_result"
    }
   ],
   "source": [
    "object2 = object1.reindex([\"o\", \"c\", \"i\", \"m\", \"e\"])\n",
    "object2"
   ]
  },
  {
   "cell_type": "code",
   "execution_count": 25,
   "metadata": {
    "collapsed": false
   },
   "outputs": [
    {
     "data": {
      "text/plain": [
       "o     0\n",
       "c    22\n",
       "i     1\n",
       "m     0\n",
       "e    13\n",
       "dtype: int64"
      ]
     },
     "execution_count": 25,
     "metadata": {},
     "output_type": "execute_result"
    }
   ],
   "source": [
    "object2 = object1.reindex([\"o\", \"c\", \"i\", \"m\", \"e\"], fill_value = 0)\n",
    "object2"
   ]
  },
  {
   "cell_type": "markdown",
   "metadata": {},
   "source": [
    "You may want to forward fill or backfill values when reindexing. Forward fill is ffill while backfill is bfill. This can be really useful for time series."
   ]
  },
  {
   "cell_type": "code",
   "execution_count": 26,
   "metadata": {
    "collapsed": false
   },
   "outputs": [
    {
     "data": {
      "text/plain": [
       "0      wait time\n",
       "1      wait time\n",
       "2      wait time\n",
       "3     setup time\n",
       "4     setup time\n",
       "5     queue time\n",
       "6      load time\n",
       "7      load time\n",
       "8       run time\n",
       "9       run time\n",
       "10      run time\n",
       "11      run time\n",
       "dtype: object"
      ]
     },
     "execution_count": 26,
     "metadata": {},
     "output_type": "execute_result"
    }
   ],
   "source": [
    "cum_time = Series([\"wait time\", \"setup time\", \"queue time\", \"load time\", \"run time\"], index = [0, 3, 5, 6, 8])\n",
    "cum_time.reindex(range(12), method = \"ffill\")"
   ]
  },
  {
   "cell_type": "markdown",
   "metadata": {},
   "source": [
    "Reindex can also be used to reshape the DataFrame. After the DataFrame is constructed, the indexes and columns can be reindexed as normal."
   ]
  },
  {
   "cell_type": "code",
   "execution_count": 28,
   "metadata": {
    "collapsed": false
   },
   "outputs": [
    {
     "data": {
      "text/html": [
       "<div style=\"max-height:1000px;max-width:1500px;overflow:auto;\">\n",
       "<table border=\"1\" class=\"dataframe\">\n",
       "  <thead>\n",
       "    <tr style=\"text-align: right;\">\n",
       "      <th></th>\n",
       "      <th>e</th>\n",
       "      <th>f</th>\n",
       "      <th>g</th>\n",
       "      <th>h</th>\n",
       "    </tr>\n",
       "  </thead>\n",
       "  <tbody>\n",
       "    <tr>\n",
       "      <th>a</th>\n",
       "      <td>  0</td>\n",
       "      <td>  1</td>\n",
       "      <td>  2</td>\n",
       "      <td>  3</td>\n",
       "    </tr>\n",
       "    <tr>\n",
       "      <th>b</th>\n",
       "      <td>  4</td>\n",
       "      <td>  5</td>\n",
       "      <td>  6</td>\n",
       "      <td>  7</td>\n",
       "    </tr>\n",
       "    <tr>\n",
       "      <th>c</th>\n",
       "      <td>  8</td>\n",
       "      <td>  9</td>\n",
       "      <td> 10</td>\n",
       "      <td> 11</td>\n",
       "    </tr>\n",
       "    <tr>\n",
       "      <th>d</th>\n",
       "      <td> 12</td>\n",
       "      <td> 13</td>\n",
       "      <td> 14</td>\n",
       "      <td> 15</td>\n",
       "    </tr>\n",
       "  </tbody>\n",
       "</table>\n",
       "</div>"
      ],
      "text/plain": [
       "    e   f   g   h\n",
       "a   0   1   2   3\n",
       "b   4   5   6   7\n",
       "c   8   9  10  11\n",
       "d  12  13  14  15"
      ]
     },
     "execution_count": 28,
     "metadata": {},
     "output_type": "execute_result"
    }
   ],
   "source": [
    "frame = DataFrame(np.arange(16).reshape((4,4)), index = [\"a\", \"b\", \"c\", \"d\"], columns = [\"e\", \"f\", \"g\", \"h\"])\n",
    "frame"
   ]
  },
  {
   "cell_type": "code",
   "execution_count": null,
   "metadata": {
    "collapsed": true
   },
   "outputs": [],
   "source": []
  }
 ],
 "metadata": {
  "language_info": {
   "codemirror_mode": {
    "name": "ipython",
    "version": 2
   },
   "file_extension": ".py",
   "mimetype": "text/x-python",
   "name": "python",
   "nbconvert_exporter": "python",
   "pygments_lexer": "ipython2",
   "version": "2.7.8"
  }
 },
 "nbformat": 4,
 "nbformat_minor": 0
}
