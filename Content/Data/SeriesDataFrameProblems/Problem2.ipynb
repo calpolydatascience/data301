{
 "cells": [
  {
   "cell_type": "markdown",
   "metadata": {},
   "source": [
    "Cal Poly Mechanical Engineering students recently took a Thermodynamics midterm. Paul, Steve, Catherine, Rayna and Mary earned scores of 60, 94, 53, 77 and 68, respectively. Create Series of the student test scores and use the student names as the index."
   ]
  },
  {
   "cell_type": "code",
   "execution_count": 1,
   "metadata": {
    "collapsed": false
   },
   "outputs": [
    {
     "data": {
      "text/plain": [
       "Paul         60\n",
       "Steve        94\n",
       "Catherine    53\n",
       "Rayna        77\n",
       "Mary         68\n",
       "dtype: int64"
      ]
     },
     "execution_count": 1,
     "metadata": {},
     "output_type": "execute_result"
    }
   ],
   "source": [
    "from pandas import Series\n",
    "test_scores = Series([60, 94, 53, 77, 68], index = [\"Paul\", \"Steve\", \"Catherine\", \"Rayna\", \"Mary\"])\n",
    "test_scores"
   ]
  },
  {
   "cell_type": "markdown",
   "metadata": {},
   "source": [
    "The class average on the midterm was a 64. Find the students who scored above the average."
   ]
  },
  {
   "cell_type": "code",
   "execution_count": 2,
   "metadata": {
    "collapsed": false
   },
   "outputs": [
    {
     "data": {
      "text/plain": [
       "Steve    94\n",
       "Rayna    77\n",
       "Mary     68\n",
       "dtype: int64"
      ]
     },
     "execution_count": 2,
     "metadata": {},
     "output_type": "execute_result"
    }
   ],
   "source": [
    "test_scores[test_scores > 64]"
   ]
  },
  {
   "cell_type": "markdown",
   "metadata": {},
   "source": [
    "Upon reviewing the test, the professor realized a 3 point multiple choice problem was poorly worded, so he gave every student in the class 3 additional points on the test. What are Paul, Steve, Catherine, Rayna and Mary's new scores?"
   ]
  },
  {
   "cell_type": "code",
   "execution_count": 3,
   "metadata": {
    "collapsed": false
   },
   "outputs": [
    {
     "data": {
      "text/plain": [
       "Paul         63\n",
       "Steve        97\n",
       "Catherine    56\n",
       "Rayna        80\n",
       "Mary         71\n",
       "dtype: int64"
      ]
     },
     "execution_count": 3,
     "metadata": {},
     "output_type": "execute_result"
    }
   ],
   "source": [
    "test_scores + 3"
   ]
  },
  {
   "cell_type": "code",
   "execution_count": null,
   "metadata": {
    "collapsed": true
   },
   "outputs": [],
   "source": []
  }
 ],
 "metadata": {
  "kernelspec": {
   "display_name": "Python 3",
   "language": "python",
   "name": "python3"
  },
  "language_info": {
   "codemirror_mode": {
    "name": "ipython",
    "version": 3
   },
   "file_extension": ".py",
   "mimetype": "text/x-python",
   "name": "python",
   "nbconvert_exporter": "python",
   "pygments_lexer": "ipython3",
   "version": "3.4.0"
  }
 },
 "nbformat": 4,
 "nbformat_minor": 0
}
