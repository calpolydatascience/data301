{
 "cells": [
  {
   "cell_type": "markdown",
   "metadata": {},
   "source": [
    "Create a Series as a class grade breakdown where you treat the index as a final grade on a scale of 0-100 where the value is the final letter grade a student would receive for that corresponding final score. Include every integer from 0-100, and include minuses and pluses (for example, an index of 86 has a corresponding value of a B, 87 is a B+, 90 is an A-, 93 is an A-, 94 is an A, etc). Hint: Use either ffill or bfill."
   ]
  },
  {
   "cell_type": "code",
   "execution_count": 5,
   "metadata": {
    "collapsed": false
   },
   "outputs": [
    {
     "data": {
      "text/plain": [
       "0       F\n",
       "1       F\n",
       "2       F\n",
       "3       F\n",
       "4       F\n",
       "5       F\n",
       "6       F\n",
       "7       F\n",
       "8       F\n",
       "9       F\n",
       "10      F\n",
       "11      F\n",
       "12      F\n",
       "13      F\n",
       "14      F\n",
       "15      F\n",
       "16      F\n",
       "17      F\n",
       "18      F\n",
       "19      F\n",
       "20      F\n",
       "21      F\n",
       "22      F\n",
       "23      F\n",
       "24      F\n",
       "25      F\n",
       "26      F\n",
       "27      F\n",
       "28      F\n",
       "29      F\n",
       "       ..\n",
       "71     C-\n",
       "72     C-\n",
       "73      C\n",
       "74      C\n",
       "75      C\n",
       "76      C\n",
       "77     C+\n",
       "78     C+\n",
       "79     C+\n",
       "80     B-\n",
       "81     B-\n",
       "82     B-\n",
       "83      B\n",
       "84      B\n",
       "85      B\n",
       "86      B\n",
       "87     B+\n",
       "88     B+\n",
       "89     B+\n",
       "90     A-\n",
       "91     A-\n",
       "92     A-\n",
       "93      A\n",
       "94      A\n",
       "95      A\n",
       "96      A\n",
       "97     A+\n",
       "98     A+\n",
       "99     A+\n",
       "100    A+\n",
       "dtype: object"
      ]
     },
     "execution_count": 5,
     "metadata": {},
     "output_type": "execute_result"
    }
   ],
   "source": [
    "from pandas import Series\n",
    "\n",
    "grades = Series([\"F\", \"D-\", \"D\", \"D+\", \"C-\", \"C\", \"C+\", \"B-\", \"B\", \"B+\", \"A-\", \"A\", \"A+\"],\n",
    "              index = [0,60,63,67,70,73,77,80,83,87,90,93,97])\n",
    "grades.reindex(range(101), method=\"ffill\")"
   ]
  },
  {
   "cell_type": "code",
   "execution_count": null,
   "metadata": {
    "collapsed": true
   },
   "outputs": [],
   "source": []
  }
 ],
 "metadata": {
  "kernelspec": {
   "display_name": "Python 3",
   "language": "python",
   "name": "python3"
  },
  "language_info": {
   "codemirror_mode": {
    "name": "ipython",
    "version": 3
   },
   "file_extension": ".py",
   "mimetype": "text/x-python",
   "name": "python",
   "nbconvert_exporter": "python",
   "pygments_lexer": "ipython3",
   "version": "3.4.0"
  }
 },
 "nbformat": 4,
 "nbformat_minor": 0
}
