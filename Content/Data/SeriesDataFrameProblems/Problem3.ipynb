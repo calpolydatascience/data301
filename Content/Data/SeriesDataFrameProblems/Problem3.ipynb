{
 "cells": [
  {
   "cell_type": "markdown",
   "metadata": {},
   "source": [
    "A group of friends Kaila, Jordan, Max, Sophie and Kevin decide to spend their Saturday afternoon shopping at the mall. They first go into the Nike store, where Kaila spends 25 dollars, Jordan spends 50 dollars, Max spends 15 dollars and Kevin spends 100 dollars. Create a Series of the money spent by each person at Nike."
   ]
  },
  {
   "cell_type": "code",
   "execution_count": 3,
   "metadata": {
    "collapsed": false
   },
   "outputs": [
    {
     "data": {
      "text/plain": [
       "Kaila      25\n",
       "Jordan     50\n",
       "Max        15\n",
       "Sophie      0\n",
       "Kevin     100\n",
       "dtype: int64"
      ]
     },
     "execution_count": 3,
     "metadata": {},
     "output_type": "execute_result"
    }
   ],
   "source": [
    "from pandas import Series\n",
    "nike = Series([25,50,15,0,100], index = [\"Kaila\", \"Jordan\", \"Max\", \"Sophie\", \"Kevin\"])\n",
    "nike"
   ]
  },
  {
   "cell_type": "markdown",
   "metadata": {},
   "source": [
    "Next, the friends go into Forever 21, where Kaila and Sophie each spend 50 dollars. Create a Series of the money spent by each person at Forever 21."
   ]
  },
  {
   "cell_type": "code",
   "execution_count": 4,
   "metadata": {
    "collapsed": false
   },
   "outputs": [
    {
     "data": {
      "text/plain": [
       "Kaila     50\n",
       "Jordan     0\n",
       "Max        0\n",
       "Sophie    50\n",
       "Kevin      0\n",
       "dtype: int64"
      ]
     },
     "execution_count": 4,
     "metadata": {},
     "output_type": "execute_result"
    }
   ],
   "source": [
    "forever21 = Series([50,0,0,50,0], index = [\"Kaila\", \"Jordan\", \"Max\", \"Sophie\", \"Kevin\"])\n",
    "forever21"
   ]
  },
  {
   "cell_type": "markdown",
   "metadata": {},
   "source": [
    "Now calculate how much each person spent total throughout the shopping trip."
   ]
  },
  {
   "cell_type": "code",
   "execution_count": 5,
   "metadata": {
    "collapsed": false
   },
   "outputs": [
    {
     "data": {
      "text/plain": [
       "Kaila      75\n",
       "Jordan     50\n",
       "Max        15\n",
       "Sophie     50\n",
       "Kevin     100\n",
       "dtype: int64"
      ]
     },
     "execution_count": 5,
     "metadata": {},
     "output_type": "execute_result"
    }
   ],
   "source": [
    "total = nike + forever21\n",
    "total"
   ]
  },
  {
   "cell_type": "code",
   "execution_count": null,
   "metadata": {
    "collapsed": true
   },
   "outputs": [],
   "source": []
  }
 ],
 "metadata": {
  "kernelspec": {
   "display_name": "Python 3",
   "language": "python",
   "name": "python3"
  },
  "language_info": {
   "codemirror_mode": {
    "name": "ipython",
    "version": 3
   },
   "file_extension": ".py",
   "mimetype": "text/x-python",
   "name": "python",
   "nbconvert_exporter": "python",
   "pygments_lexer": "ipython3",
   "version": "3.4.0"
  }
 },
 "nbformat": 4,
 "nbformat_minor": 0
}
