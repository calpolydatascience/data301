{
 "metadata": {
  "name": "",
  "signature": "sha256:a0afd3832e166f6cb4caff1fdd743c5874f73d1c919e6e3129165c794c44cc0c"
 },
 "nbformat": 3,
 "nbformat_minor": 0,
 "worksheets": [
  {
   "cells": [
    {
     "cell_type": "markdown",
     "metadata": {},
     "source": [
      "# Series"
     ]
    },
    {
     "cell_type": "markdown",
     "metadata": {},
     "source": [
      "A Series is a one-dimensional object containing an array of data and an associated array of data labels (called its index). Below we have a series with its associated index on the left side column."
     ]
    },
    {
     "cell_type": "code",
     "collapsed": false,
     "input": [
      "from pandas import Series\n",
      "\n",
      "obj = Series([4,7,-5,3])\n",
      "obj"
     ],
     "language": "python",
     "metadata": {},
     "outputs": [
      {
       "metadata": {},
       "output_type": "pyout",
       "prompt_number": 1,
       "text": [
        "0    4\n",
        "1    7\n",
        "2   -5\n",
        "3    3\n",
        "dtype: int64"
       ]
      }
     ],
     "prompt_number": 1
    },
    {
     "cell_type": "markdown",
     "metadata": {},
     "source": [
      "If we want to set our own index, we can do that as well."
     ]
    },
    {
     "cell_type": "code",
     "collapsed": false,
     "input": [
      "from pandas import Series\n",
      "\n",
      "obj2 = Series([4,7,-5,3], index = [\"d\",\"b\",\"a\",\"c\"])\n",
      "obj2"
     ],
     "language": "python",
     "metadata": {},
     "outputs": [
      {
       "metadata": {},
       "output_type": "pyout",
       "prompt_number": 2,
       "text": [
        "d    4\n",
        "b    7\n",
        "a   -5\n",
        "c    3\n",
        "dtype: int64"
       ]
      }
     ],
     "prompt_number": 2
    },
    {
     "cell_type": "markdown",
     "metadata": {},
     "source": [
      "You can select single values or a set of values in the array by referencing the index."
     ]
    },
    {
     "cell_type": "code",
     "collapsed": false,
     "input": [
      "from pandas import Series\n",
      "\n",
      "obj2 = Series([4,7,-5,3], index = [\"d\",\"b\",\"a\",\"c\"])\n",
      "obj2[\"a\"]"
     ],
     "language": "python",
     "metadata": {},
     "outputs": [
      {
       "metadata": {},
       "output_type": "pyout",
       "prompt_number": 3,
       "text": [
        "-5"
       ]
      }
     ],
     "prompt_number": 3
    },
    {
     "cell_type": "code",
     "collapsed": false,
     "input": [
      "from pandas import Series\n",
      "\n",
      "obj2 = Series([4,7,-5,3], index = [\"d\",\"b\",\"a\",\"c\"])\n",
      "obj2[[\"c\",\"a\",\"d\"]]"
     ],
     "language": "python",
     "metadata": {},
     "outputs": [
      {
       "metadata": {},
       "output_type": "pyout",
       "prompt_number": 4,
       "text": [
        "c    3\n",
        "a   -5\n",
        "d    4\n",
        "dtype: int64"
       ]
      }
     ],
     "prompt_number": 4
    },
    {
     "cell_type": "markdown",
     "metadata": {},
     "source": [
      "You can also edit vaules in the array by referencing the index."
     ]
    },
    {
     "cell_type": "code",
     "collapsed": false,
     "input": [
      "from pandas import Series\n",
      "\n",
      "obj2 = Series([4,7,-5,3], index = [\"d\",\"b\",\"a\",\"c\"])\n",
      "obj2[\"d\"] = 6\n",
      "obj2"
     ],
     "language": "python",
     "metadata": {},
     "outputs": [
      {
       "metadata": {},
       "output_type": "pyout",
       "prompt_number": 5,
       "text": [
        "d    6\n",
        "b    7\n",
        "a   -5\n",
        "c    3\n",
        "dtype: int64"
       ]
      }
     ],
     "prompt_number": 5
    },
    {
     "cell_type": "markdown",
     "metadata": {},
     "source": [
      "Note that applying array operations such as filtering or doing math functions still preserves the index."
     ]
    },
    {
     "cell_type": "code",
     "collapsed": false,
     "input": [
      "from pandas import Series\n",
      "\n",
      "obj2 = Series([4,7,-5,3], index = [\"d\",\"b\",\"a\",\"c\"])\n",
      "obj2[obj2 > 0]"
     ],
     "language": "python",
     "metadata": {},
     "outputs": [
      {
       "metadata": {},
       "output_type": "pyout",
       "prompt_number": 6,
       "text": [
        "d    4\n",
        "b    7\n",
        "c    3\n",
        "dtype: int64"
       ]
      }
     ],
     "prompt_number": 6
    },
    {
     "cell_type": "code",
     "collapsed": false,
     "input": [
      "from pandas import Series\n",
      "\n",
      "obj2 = Series([4,7,-5,3], index = [\"d\",\"b\",\"a\",\"c\"])\n",
      "obj2 * 2"
     ],
     "language": "python",
     "metadata": {},
     "outputs": [
      {
       "metadata": {},
       "output_type": "pyout",
       "prompt_number": 7,
       "text": [
        "d     8\n",
        "b    14\n",
        "a   -10\n",
        "c     6\n",
        "dtype: int64"
       ]
      }
     ],
     "prompt_number": 7
    },
    {
     "cell_type": "markdown",
     "metadata": {},
     "source": [
      "You can check to see if a certain index exists in the array."
     ]
    },
    {
     "cell_type": "code",
     "collapsed": false,
     "input": [
      "from pandas import Series\n",
      "\n",
      "obj2 = Series([4,7,-5,3], index = [\"d\",\"b\",\"a\",\"c\"])\n",
      "\"b\" in obj2"
     ],
     "language": "python",
     "metadata": {},
     "outputs": [
      {
       "metadata": {},
       "output_type": "pyout",
       "prompt_number": 8,
       "text": [
        "True"
       ]
      }
     ],
     "prompt_number": 8
    },
    {
     "cell_type": "code",
     "collapsed": false,
     "input": [
      "from pandas import Series\n",
      "\n",
      "obj2 = Series([4,7,-5,3], index = [\"d\",\"b\",\"a\",\"c\"])\n",
      "\"e\" in obj2"
     ],
     "language": "python",
     "metadata": {},
     "outputs": [
      {
       "metadata": {},
       "output_type": "pyout",
       "prompt_number": 9,
       "text": [
        "False"
       ]
      }
     ],
     "prompt_number": 9
    },
    {
     "cell_type": "markdown",
     "metadata": {},
     "source": [
      "If you have data contained within a Python dictionary, you can create a Series from it by passing the dictionary."
     ]
    },
    {
     "cell_type": "code",
     "collapsed": false,
     "input": [
      "from pandas import Series\n",
      "\n",
      "sdata = {\"Ohio\": 35000, \"Texas\": 71000, \"Oregon\": 16000, \"Utah\": 5000}\n",
      "obj3 = Series(sdata)\n",
      "obj3"
     ],
     "language": "python",
     "metadata": {},
     "outputs": [
      {
       "metadata": {},
       "output_type": "pyout",
       "prompt_number": 10,
       "text": [
        "Ohio      35000\n",
        "Oregon    16000\n",
        "Texas     71000\n",
        "Utah       5000\n",
        "dtype: int64"
       ]
      }
     ],
     "prompt_number": 10
    },
    {
     "cell_type": "markdown",
     "metadata": {},
     "source": [
      "When only passing a dictionary, the index in the resulting Series will have the dictionary's keys in sorted order. Note that because the index \"California\" is not given an index in the dictionary, it comes out as null (NaN stands for \"not a number\") in the Series."
     ]
    },
    {
     "cell_type": "code",
     "collapsed": false,
     "input": [
      "from pandas import Series\n",
      "\n",
      "sdata = {\"Ohio\": 35000, \"Texas\": 71000, \"Oregon\": 16000, \"Utah\": 5000}\n",
      "states = [\"California\", \"Ohio\", \"Oregon\", \"Texas\"]\n",
      "obj4 = Series(sdata, index = states)\n",
      "obj4"
     ],
     "language": "python",
     "metadata": {},
     "outputs": [
      {
       "metadata": {},
       "output_type": "pyout",
       "prompt_number": 11,
       "text": [
        "California      NaN\n",
        "Ohio          35000\n",
        "Oregon        16000\n",
        "Texas         71000\n",
        "dtype: float64"
       ]
      }
     ],
     "prompt_number": 11
    },
    {
     "cell_type": "markdown",
     "metadata": {},
     "source": [
      "There are multiple ways to search for these null values."
     ]
    },
    {
     "cell_type": "code",
     "collapsed": false,
     "input": [
      "from pandas import Series\n",
      "import pandas as pd\n",
      "\n",
      "sdata = {\"Ohio\": 35000, \"Texas\": 71000, \"Oregon\": 16000, \"Utah\": 5000}\n",
      "states = [\"California\", \"Ohio\", \"Oregon\", \"Texas\"]\n",
      "obj4 = Series(sdata, index = states)\n",
      "pd.isnull(obj4)"
     ],
     "language": "python",
     "metadata": {},
     "outputs": [
      {
       "metadata": {},
       "output_type": "pyout",
       "prompt_number": 12,
       "text": [
        "California     True\n",
        "Ohio          False\n",
        "Oregon        False\n",
        "Texas         False\n",
        "dtype: bool"
       ]
      }
     ],
     "prompt_number": 12
    },
    {
     "cell_type": "code",
     "collapsed": false,
     "input": [
      "from pandas import Series\n",
      "import pandas as pd\n",
      "\n",
      "sdata = {\"Ohio\": 35000, \"Texas\": 71000, \"Oregon\": 16000, \"Utah\": 5000}\n",
      "states = [\"California\", \"Ohio\", \"Oregon\", \"Texas\"]\n",
      "obj4 = Series(sdata, index = states)\n",
      "pd.notnull(obj4)"
     ],
     "language": "python",
     "metadata": {},
     "outputs": [
      {
       "metadata": {},
       "output_type": "pyout",
       "prompt_number": 13,
       "text": [
        "California    False\n",
        "Ohio           True\n",
        "Oregon         True\n",
        "Texas          True\n",
        "dtype: bool"
       ]
      }
     ],
     "prompt_number": 13
    },
    {
     "cell_type": "code",
     "collapsed": false,
     "input": [
      "from pandas import Series\n",
      "import pandas as pd\n",
      "\n",
      "sdata = {\"Ohio\": 35000, \"Texas\": 71000, \"Oregon\": 16000, \"Utah\": 5000}\n",
      "states = [\"California\", \"Ohio\", \"Oregon\", \"Texas\"]\n",
      "obj4 = Series(sdata, index = states)\n",
      "obj4.isnull()"
     ],
     "language": "python",
     "metadata": {},
     "outputs": [
      {
       "metadata": {},
       "output_type": "pyout",
       "prompt_number": 14,
       "text": [
        "California     True\n",
        "Ohio          False\n",
        "Oregon        False\n",
        "Texas         False\n",
        "dtype: bool"
       ]
      }
     ],
     "prompt_number": 14
    },
    {
     "cell_type": "markdown",
     "metadata": {},
     "source": [
      "If two different Series contain the same index, you can perform arithmetics operations on them."
     ]
    },
    {
     "cell_type": "code",
     "collapsed": false,
     "input": [
      "obj3"
     ],
     "language": "python",
     "metadata": {},
     "outputs": [
      {
       "metadata": {},
       "output_type": "pyout",
       "prompt_number": 15,
       "text": [
        "Ohio      35000\n",
        "Oregon    16000\n",
        "Texas     71000\n",
        "Utah       5000\n",
        "dtype: int64"
       ]
      }
     ],
     "prompt_number": 15
    },
    {
     "cell_type": "code",
     "collapsed": false,
     "input": [
      "obj4"
     ],
     "language": "python",
     "metadata": {},
     "outputs": [
      {
       "metadata": {},
       "output_type": "pyout",
       "prompt_number": 16,
       "text": [
        "California      NaN\n",
        "Ohio          35000\n",
        "Oregon        16000\n",
        "Texas         71000\n",
        "dtype: float64"
       ]
      }
     ],
     "prompt_number": 16
    },
    {
     "cell_type": "code",
     "collapsed": false,
     "input": [
      "obj3 + obj4"
     ],
     "language": "python",
     "metadata": {},
     "outputs": [
      {
       "metadata": {},
       "output_type": "pyout",
       "prompt_number": 17,
       "text": [
        "California       NaN\n",
        "Ohio           70000\n",
        "Oregon         32000\n",
        "Texas         142000\n",
        "Utah             NaN\n",
        "dtype: float64"
       ]
      }
     ],
     "prompt_number": 17
    },
    {
     "cell_type": "markdown",
     "metadata": {},
     "source": [
      "A Series's index can be altered in place by assignment."
     ]
    },
    {
     "cell_type": "code",
     "collapsed": false,
     "input": [
      "obj"
     ],
     "language": "python",
     "metadata": {},
     "outputs": [
      {
       "metadata": {},
       "output_type": "pyout",
       "prompt_number": 18,
       "text": [
        "0    4\n",
        "1    7\n",
        "2   -5\n",
        "3    3\n",
        "dtype: int64"
       ]
      }
     ],
     "prompt_number": 18
    },
    {
     "cell_type": "code",
     "collapsed": false,
     "input": [
      "obj.index = [\"Bob\", \"Steve\", \"Jeff\", \"Ryan\"]\n",
      "obj"
     ],
     "language": "python",
     "metadata": {},
     "outputs": [
      {
       "metadata": {},
       "output_type": "pyout",
       "prompt_number": 19,
       "text": [
        "Bob      4\n",
        "Steve    7\n",
        "Jeff    -5\n",
        "Ryan     3\n",
        "dtype: int64"
       ]
      }
     ],
     "prompt_number": 19
    },
    {
     "cell_type": "code",
     "collapsed": false,
     "input": [],
     "language": "python",
     "metadata": {},
     "outputs": [],
     "prompt_number": 19
    }
   ],
   "metadata": {}
  }
 ]
}